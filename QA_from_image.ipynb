{
 "cells": [
  {
   "cell_type": "code",
   "execution_count": 2,
   "id": "66fb38df-2670-4464-b852-94363eaf5b3b",
   "metadata": {},
   "outputs": [],
   "source": [
    "# Importing the required libraries\n",
    "import pytesseract  \n",
    "from transformers import pipeline  \n",
    "from PIL import Image\n",
    "\n",
    "def read_image_content(image_path) -> str:\n",
    "    '''\n",
    "    Reads the content of an image and returns it as a string using OCR (Optical Character Recognition).\n",
    "\n",
    "    Parameters:\n",
    "    image_path (str): The path to the image file to be read.\n",
    "\n",
    "    Returns:\n",
    "    str: The text content extracted from the image.\n",
    "    '''\n",
    "    # Set the Tesseract command path\n",
    "    pytesseract.pytesseract.tesseract_cmd = '/usr/bin/tesseract'\n",
    "    \n",
    "    # Open the image file using PIL\n",
    "    image = Image.open(image_path)\n",
    "    \n",
    "    # Use Tesseract to convert the image to a string\n",
    "    return pytesseract.image_to_string(image)\n",
    "\n",
    "def QA(context) -> None:\n",
    "    '''\n",
    "    Performs a question-answering task using a given context.\n",
    "\n",
    "    Parameters:\n",
    "    context (str): The context text used to answer questions.\n",
    "\n",
    "    Returns:\n",
    "    None\n",
    "    '''\n",
    "    # Initialize the question-answering pipeline\n",
    "    qa = pipeline(\"question-answering\")\n",
    "    \n",
    "    # Continuously ask for user input and provide answers based on the context\n",
    "    while ask := input('ask something:'):\n",
    "        # Get the answer from the pipeline and print it\n",
    "        print('\\n')\n",
    "        print(qa(question=ask, context=context)['answer'])\n",
    "        # Print a separator for better readability\n",
    "        print(f'\\n{\"*\"*100}')\n",
    "\n",
    "# Execute the QA function with the text extracted from the image\n",
    "QA(read_image_content(input('Enter image path: ')))"
   ]
  }
 ],
 "metadata": {
  "kernelspec": {
   "display_name": "Python 3 (ipykernel)",
   "language": "python",
   "name": "python3"
  },
  "language_info": {
   "codemirror_mode": {
    "name": "ipython",
    "version": 3
   },
   "file_extension": ".py",
   "mimetype": "text/x-python",
   "name": "python",
   "nbconvert_exporter": "python",
   "pygments_lexer": "ipython3",
   "version": "3.11.7"
  }
 },
 "nbformat": 4,
 "nbformat_minor": 5
}
